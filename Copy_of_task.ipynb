{
  "nbformat": 4,
  "nbformat_minor": 0,
  "metadata": {
    "colab": {
      "provenance": [],
      "mount_file_id": "1NNB3S5EdivrR9aRSNaBAkl4Xo-0qiAeI",
      "authorship_tag": "ABX9TyMPDWACgqQro4cjiP3UrSDm",
      "include_colab_link": true
    },
    "kernelspec": {
      "name": "python3",
      "display_name": "Python 3"
    },
    "language_info": {
      "name": "python"
    }
  },
  "cells": [
    {
      "cell_type": "markdown",
      "metadata": {
        "id": "view-in-github",
        "colab_type": "text"
      },
      "source": [
        "<a href=\"https://colab.research.google.com/github/bakhshianshakiba/Data_Colab_news/blob/main/Copy_of_task.ipynb\" target=\"_parent\"><img src=\"https://colab.research.google.com/assets/colab-badge.svg\" alt=\"Open In Colab\"/></a>"
      ]
    },
    {
      "cell_type": "code",
      "source": [
        "from google.colab import drive\n",
        "drive.mount('/content/drive')"
      ],
      "metadata": {
        "colab": {
          "base_uri": "https://localhost:8080/"
        },
        "id": "5t7RtwhOvHAa",
        "outputId": "3143e128-20e4-4860-e6ca-bf383f6d9cdc"
      },
      "execution_count": null,
      "outputs": [
        {
          "output_type": "stream",
          "name": "stdout",
          "text": [
            "Drive already mounted at /content/drive; to attempt to forcibly remount, call drive.mount(\"/content/drive\", force_remount=True).\n"
          ]
        }
      ]
    },
    {
      "cell_type": "markdown",
      "source": [
        "**First Task**"
      ],
      "metadata": {
        "id": "YCDzhsf3rsWs"
      }
    },
    {
      "cell_type": "code",
      "source": [
        "import csv\n",
        "import json\n",
        "import pandas as pd\n",
        "\n",
        "f1 = open('input/18246.json')\n",
        "data_18 = json.load(f1)\n",
        "f2 = open('input/12387.json')\n",
        "data_12 = json.load(f2)\n",
        "f3 = open('input/16859.json')\n",
        "data_16 = json.load(f3)\n",
        "\n",
        "with open ('input/to_fill.csv', 'r') as file, open('Result/output_file.csv', 'w', newline='') as output_file:\n",
        "    reader = csv.reader(file)\n",
        "    writer = csv.writer(output_file)\n",
        "    \n",
        "    for row in reader:\n",
        "        if row[2] == '12387':\n",
        "            row.append(data_12['text'])                 #add body\n",
        "            row.append(data_12['words'][0]['start'])    #add starting time\n",
        "            row.append(data_12['words'][-1]['end'])     #add ending time\n",
        "        elif row[2] == '16859':\n",
        "            row.append(data_16['text'])                 #add body\n",
        "            row.append(data_16['words'][0]['start'])    #add starting time\n",
        "            row.append(data_16['words'][-1]['end'])     #add ending time\n",
        "        elif row[2] == '18246':\n",
        "            row.append(data_18['text'])                 #add body\n",
        "            row.append(data_18['words'][0]['start'])    #add starting time\n",
        "            row.append(data_18['words'][-1]['end'])     #add ending time\n",
        "        elif row[0] == 'first_words':                   #add topics\n",
        "            row.append('body')                 \n",
        "            row.append('start')    \n",
        "            row.append('end')\n",
        "        writer.writerow(row)"
      ],
      "metadata": {
        "id": "tAlxdPJ7f4Ql"
      },
      "execution_count": null,
      "outputs": []
    },
    {
      "cell_type": "markdown",
      "source": [
        "**Second Task**"
      ],
      "metadata": {
        "id": "IplwvTqleIyd"
      }
    },
    {
      "cell_type": "code",
      "execution_count": null,
      "metadata": {
        "colab": {
          "base_uri": "https://localhost:8080/"
        },
        "id": "J51pbGkZI4Wf",
        "outputId": "40ab8386-0a5c-478d-f69c-5958c47d0db5"
      },
      "outputs": [
        {
          "output_type": "stream",
          "name": "stderr",
          "text": [
            "/usr/local/lib/python3.10/dist-packages/sklearn/linear_model/_logistic.py:458: ConvergenceWarning: lbfgs failed to converge (status=1):\n",
            "STOP: TOTAL NO. of ITERATIONS REACHED LIMIT.\n",
            "\n",
            "Increase the number of iterations (max_iter) or scale the data as shown in:\n",
            "    https://scikit-learn.org/stable/modules/preprocessing.html\n",
            "Please also refer to the documentation for alternative solver options:\n",
            "    https://scikit-learn.org/stable/modules/linear_model.html#logistic-regression\n",
            "  n_iter_i = _check_optimize_result(\n"
          ]
        }
      ],
      "source": [
        "import pandas as pd\n",
        "import numpy as np\n",
        "from sklearn.feature_extraction.text import CountVectorizer\n",
        "from sklearn.linear_model import LogisticRegression\n",
        "\n",
        "data = pd.read_csv('input/stories.csv')\n",
        "test_data = pd.read_csv('Result/output_file.csv')\n",
        "X_train = np.array(data['body'])\n",
        "y_train = np.array(data['topic'])\n",
        "X_test = np.array(test_data['body'])\n",
        "\n",
        "vectorizer = CountVectorizer()\n",
        "X_train_vectorized = vectorizer.fit_transform(X_train)\n",
        "\n",
        "model = LogisticRegression()\n",
        "model.fit(X_train_vectorized, y_train)\n",
        "\n",
        "X_test_vectorized = vectorizer.transform(X_test)\n",
        "predictions = model.predict(X_test_vectorized)\n"
      ]
    },
    {
      "cell_type": "code",
      "source": [
        "import csv\n",
        "from itertools import islice\n",
        "\n",
        "with open ('Result/output_file.csv', 'r') as file, open('Result/final_file.csv', 'w', newline='') as final_file:\n",
        "    reader = csv.reader(file)\n",
        "    writer = csv.writer(final_file)\n",
        "    counter = 1\n",
        "    writer.writerow(['first_words','last_words','source_video_id','body','start','end','topics'])\n",
        "    for row in islice(reader, 1, None):\n",
        "        row.append(predictions[counter-1])\n",
        "        counter += 1\n",
        "        writer.writerow(row)\n"
      ],
      "metadata": {
        "id": "9xyAsdV6q9iT"
      },
      "execution_count": null,
      "outputs": []
    },
    {
      "cell_type": "code",
      "source": [
        "!git init\n",
        "!git config --global user.email \"shba501@gmail.com\"\n",
        "!git config --global user.name \"bakhshianshakiba\"\n",
        "!git add /content/drive/MyDrive/Data_Colab/task.ipynb  \n",
        "!git commit -m \"Add notebook\"\n",
        "!git remote add origin https://github.com/bakhshianshakiba/Data_Colab_news.git  \n",
        "!git push -u origin master\n"
      ],
      "metadata": {
        "colab": {
          "base_uri": "https://localhost:8080/"
        },
        "id": "eITulDbdwoRF",
        "outputId": "936edccc-023e-4ca2-e35b-3c65ee958c99"
      },
      "execution_count": null,
      "outputs": [
        {
          "output_type": "stream",
          "name": "stdout",
          "text": [
            "Reinitialized existing Git repository in /content/.git/\n",
            "On branch master\n",
            "Untracked files:\n",
            "  (use \"git add <file>...\" to include in what will be committed)\n",
            "\t\u001b[31m.config/\u001b[m\n",
            "\t\u001b[31mdrive/MyDrive/Colab Notebooks/\u001b[m\n",
            "\t\u001b[31mdrive/MyDrive/Documents/\u001b[m\n",
            "\t\u001b[31mdrive/MyDrive/EEG/\u001b[m\n",
            "\t\u001b[31mdrive/MyDrive/X.csv\u001b[m\n",
            "\t\u001b[31mdrive/MyDrive/X/\u001b[m\n",
            "\t\u001b[31mdrive/MyDrive/X1_data.csv\u001b[m\n",
            "\t\u001b[31mdrive/MyDrive/X_not_normal.csv\u001b[m\n",
            "\t\u001b[31mdrive/MyDrive/X_spc.csv\u001b[m\n",
            "\t\u001b[31mdrive/MyDrive/X_train/\u001b[m\n",
            "\t\u001b[31mdrive/MyDrive/Y/\u001b[m\n",
            "\t\u001b[31mdrive/MyDrive/apk/\u001b[m\n",
            "\t\u001b[31mdrive/MyDrive/driver/\u001b[m\n",
            "\t\u001b[31mdrive/MyDrive/empty_array (6).csv\u001b[m\n",
            "\t\u001b[31mdrive/MyDrive/graph/\u001b[m\n",
            "\t\u001b[31mdrive/MyDrive/metadata.csv\u001b[m\n",
            "\t\u001b[31mdrive/MyDrive/metadata.txt\u001b[m\n",
            "\t\u001b[31mdrive/MyDrive/metadata/\u001b[m\n",
            "\t\u001b[31mdrive/MyDrive/new/\u001b[m\n",
            "\t\u001b[31mdrive/MyDrive/new_statistical/\u001b[m\n",
            "\t\u001b[31mdrive/MyDrive/new_train_data/\u001b[m\n",
            "\t\u001b[31mdrive/MyDrive/normal_qrs/\u001b[m\n",
            "\t\u001b[31mdrive/MyDrive/part1_1.csv\u001b[m\n",
            "\t\u001b[31mdrive/MyDrive/part4/\u001b[m\n",
            "\t\u001b[31mdrive/MyDrive/part_a/\u001b[m\n",
            "\t\u001b[31mdrive/MyDrive/part_b/\u001b[m\n",
            "\t\u001b[31mdrive/MyDrive/part_c/\u001b[m\n",
            "\t\u001b[31mdrive/MyDrive/qrs/\u001b[m\n",
            "\t\u001b[31mdrive/MyDrive/qrs_intp/\u001b[m\n",
            "\t\u001b[31mdrive/MyDrive/qrs_normal_part1/\u001b[m\n",
            "\t\u001b[31mdrive/MyDrive/qrs_normal_part2/\u001b[m\n",
            "\t\u001b[31mdrive/MyDrive/qrs_normal_part3/\u001b[m\n",
            "\t\u001b[31mdrive/MyDrive/rri/\u001b[m\n",
            "\t\u001b[31mdrive/MyDrive/rri_feature/\u001b[m\n",
            "\t\u001b[31mdrive/MyDrive/rri_feature_x/\u001b[m\n",
            "\t\u001b[31mdrive/MyDrive/rri_intp/\u001b[m\n",
            "\t\u001b[31mdrive/MyDrive/rri_x/\u001b[m\n",
            "\t\u001b[31mdrive/MyDrive/sleep/\u001b[m\n",
            "\t\u001b[31mdrive/MyDrive/specs/\u001b[m\n",
            "\t\u001b[31mdrive/MyDrive/statistical/\u001b[m\n",
            "\t\u001b[31mdrive/MyDrive/statistical_features.csv\u001b[m\n",
            "\t\u001b[31mdrive/MyDrive/statistical_features_35X.csv\u001b[m\n",
            "\t\u001b[31mdrive/MyDrive/statistical_features_train_input.csv\u001b[m\n",
            "\t\u001b[31mdrive/MyDrive/task1/\u001b[m\n",
            "\t\u001b[31mdrive/MyDrive/test_input.npy\u001b[m\n",
            "\t\u001b[31mdrive/MyDrive/test_label.npy\u001b[m\n",
            "\t\u001b[31mdrive/MyDrive/train/\u001b[m\n",
            "\t\u001b[31mdrive/MyDrive/train_data_x.csv\u001b[m\n",
            "\t\u001b[31mdrive/MyDrive/train_input.npy\u001b[m\n",
            "\t\u001b[31mdrive/MyDrive/train_label.npy\u001b[m\n",
            "\t\u001b[31msample_data/\u001b[m\n",
            "\n",
            "nothing added to commit but untracked files present (use \"git add\" to track)\n",
            "fatal: remote origin already exists.\n",
            "fatal: could not read Username for 'https://github.com': No such device or address\n"
          ]
        }
      ]
    },
    {
      "cell_type": "code",
      "source": [
        "!ls /content/drive/MyDrive/Data_Colab"
      ],
      "metadata": {
        "colab": {
          "base_uri": "https://localhost:8080/"
        },
        "id": "E6EBuX0RyH_z",
        "outputId": "8482c892-e4fd-4416-d57f-8842eaffbba5"
      },
      "execution_count": null,
      "outputs": [
        {
          "output_type": "stream",
          "name": "stdout",
          "text": [
            "task.ipynb\n"
          ]
        }
      ]
    }
  ]
}